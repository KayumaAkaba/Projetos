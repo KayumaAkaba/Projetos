{
 "cells": [
  {
   "cell_type": "code",
   "execution_count": 42,
   "metadata": {},
   "outputs": [
    {
     "name": "stderr",
     "output_type": "stream",
     "text": [
      "Could not get exchangeTimezoneName for ticker 'PETR4.SA' reason: 'chart'\n",
      "[*********************100%***********************]  9 of 9 completed\n",
      "\n",
      "1 Failed download:\n",
      "['PETR4.SA']: YFPricesMissingError('possibly delisted; no price data found  (period=1d)')\n"
     ]
    },
    {
     "name": "stdout",
     "output_type": "stream",
     "text": [
      "Cotações atualizadas com sucesso!\n"
     ]
    }
   ],
   "source": [
    "import pandas as pd\n",
    "import yfinance as yf\n",
    "\n",
    "def atualizar_cotacoes(arquivo_excel):\n",
    "    \"\"\"\n",
    "    Atualiza as cotações das ações em um arquivo Excel.\n",
    "\n",
    "    Args:\n",
    "        arquivo_excel (str): Caminho para o arquivo Excel contendo a lista de ações.\n",
    "    \"\"\"\n",
    "\n",
    "    # Limpa a coluna \"Cotação\" antes de atualizar os valores\n",
    "    \n",
    "\n",
    "    # Lê a lista de ações do arquivo Excel\n",
    "    df = pd.read_excel(arquivo_excel)\n",
    "    acoes = df['Ação'].tolist()  # Assumindo que a coluna com os tickers das ações se chama \"Ação\"\n",
    "    df['Cotação'] = pd.NA\n",
    "    # Obtém as cotações das ações\n",
    "    cotacoes = yf.download(acoes, period=\"1d\")['Close'].iloc[-1]\n",
    "\n",
    "    # Atualiza a coluna de cotações no DataFrame\n",
    "    df['Cotação'] = df['Ação'].map(cotacoes)\n",
    "\n",
    "    # Salva o DataFrame atualizado no arquivo Excel\n",
    "    df.to_excel(arquivo_excel, index=False)\n",
    "\n",
    "# Exemplo de uso\n",
    "arquivo = \"acoes.xlsx\"\n",
    "atualizar_cotacoes(arquivo)\n",
    "\n",
    "print(\"Cotações atualizadas com sucesso!\")"
   ]
  },
  {
   "cell_type": "code",
   "execution_count": 30,
   "metadata": {},
   "outputs": [
    {
     "name": "stdout",
     "output_type": "stream",
     "text": [
      "ROE: 0.16642\n",
      "EBITDA: 2914272000\n",
      "P/VP: 0.39272252\n",
      "Dividendo Yield: 3.23\n"
     ]
    }
   ],
   "source": [
    "import yfinance as yf\n",
    "\n",
    "acao = yf.Ticker(\"ALUP3.SA\")\n",
    "\n",
    "# Obter informações financeiras\n",
    "info_financeira = acao.info\n",
    "\n",
    "# Obter ROE\n",
    "roe = info_financeira.get(\"returnOnEquity\")\n",
    "\n",
    "# Obter EBITDA\n",
    "ebitda = info_financeira.get(\"ebitda\")\n",
    "\n",
    "# Obter P/VP\n",
    "pvp = info_financeira.get(\"priceToBook\")\n",
    "\n",
    "# Obter Dividendo Yield\n",
    "dividendo_yield = info_financeira.get(\"dividendYield\")\n",
    "\n",
    "print(f\"ROE: {roe}\")\n",
    "print(f\"EBITDA: {ebitda}\")\n",
    "print(f\"P/VP: {pvp}\")\n",
    "print(f\"Dividendo Yield: {dividendo_yield}\")"
   ]
  },
  {
   "cell_type": "code",
   "execution_count": 54,
   "metadata": {},
   "outputs": [
    {
     "name": "stderr",
     "output_type": "stream",
     "text": [
      "[*********************100%***********************]  1 of 1 completed\n",
      "Could not get exchangeTimezoneName for ticker 'PETR4.SA' reason: 'chart'\n",
      "[*********************100%***********************]  1 of 1 completed\n",
      "\n",
      "1 Failed download:\n",
      "['PETR4.SA']: YFPricesMissingError('possibly delisted; no price data found  (period=1d)')\n"
     ]
    },
    {
     "name": "stdout",
     "output_type": "stream",
     "text": [
      "Erro ao obter dados de PETR4.SA: single positional indexer is out-of-bounds\n"
     ]
    },
    {
     "name": "stderr",
     "output_type": "stream",
     "text": [
      "[*********************100%***********************]  1 of 1 completed\n",
      "[*********************100%***********************]  1 of 1 completed\n",
      "[*********************100%***********************]  1 of 1 completed\n",
      "[*********************100%***********************]  1 of 1 completed\n",
      "[*********************100%***********************]  1 of 1 completed\n",
      "[*********************100%***********************]  1 of 1 completed\n",
      "[*********************100%***********************]  1 of 1 completed"
     ]
    },
    {
     "name": "stdout",
     "output_type": "stream",
     "text": [
      "Dados das ações atualizados com sucesso!\n"
     ]
    },
    {
     "name": "stderr",
     "output_type": "stream",
     "text": [
      "\n"
     ]
    }
   ],
   "source": [
    "import pandas as pd\n",
    "import yfinance as yf\n",
    "import datetime\n",
    "\n",
    "def atualizar_dados_acoes(arquivo_excel):\n",
    "    \"\"\"\n",
    "    Atualiza as cotações e dados financeiros das ações em um arquivo Excel.\n",
    "    \"\"\"\n",
    "    try:\n",
    "        df = pd.read_excel(arquivo_excel)\n",
    "        acoes = df['Ação'].tolist()\n",
    "    except FileNotFoundError:\n",
    "        print(f\"Erro: Arquivo '{arquivo_excel}' não encontrado.\")\n",
    "        return\n",
    "\n",
    "    # Limpa as colunas de dados financeiros\n",
    "    colunas_financeiras = ['Cotação', 'ROE', 'EBITDA', 'P/VP', 'Dividendo Yield', 'Lucro Líquido', 'Receita', 'Data Balanço']\n",
    "    for coluna in colunas_financeiras:\n",
    "        df[coluna] = pd.NA\n",
    "\n",
    "    cotacoes = {}  # Dicionário para armazenar as cotações\n",
    "\n",
    "    for acao in acoes:\n",
    "        try:\n",
    "            ticker = yf.Ticker(acao)\n",
    "            info = ticker.info\n",
    "\n",
    "            # Obtém os dados financeiros\n",
    "            cotacoes[acao] = yf.download(acao, period=\"1d\")['Close'].iloc[-1].values[0]  # Extrai apenas o valor da cotação\n",
    "            roe = info.get('returnOnEquity')\n",
    "            ebitda = info.get('ebitda')\n",
    "            pvp = info.get('priceToBook')\n",
    "            dividendo_yield = info.get('dividendYield')\n",
    "            lucro_liquido = info.get('netIncomeToCommon')\n",
    "            receita = info.get('totalRevenue')\n",
    "            data_balanco = datetime.date.today().strftime('%Y-%m-%d')  # Obtém a data atual\n",
    "\n",
    "            # Atualiza os dados no DataFrame\n",
    "            df.loc[df['Ação'] == acao, 'ROE'] = roe\n",
    "            df.loc[df['Ação'] == acao, 'EBITDA'] = ebitda\n",
    "            df.loc[df['Ação'] == acao, 'P/VP'] = pvp\n",
    "            df.loc[df['Ação'] == acao, 'Dividendo Yield'] = dividendo_yield\n",
    "            df.loc[df['Ação'] == acao, 'Lucro Líquido'] = lucro_liquido\n",
    "            df.loc[df['Ação'] == acao, 'Receita'] = receita\n",
    "            df.loc[df['Ação'] == acao, 'Data Balanço'] = data_balanco\n",
    "\n",
    "        except Exception as e:\n",
    "            print(f\"Erro ao obter dados de {acao}: {e}\")\n",
    "\n",
    "    df['Cotação'] = df['Ação'].map(cotacoes)  # Atualiza a coluna \"Cotação\" com o dicionário de cotações\n",
    "\n",
    "    # Salva o DataFrame atualizado no arquivo Excel\n",
    "    df.to_excel(arquivo_excel, index=False)\n",
    "    print(\"Dados das ações atualizados com sucesso!\")\n",
    "\n",
    "# Exemplo de uso\n",
    "arquivo = \"acoes.xlsx\"\n",
    "atualizar_dados_acoes(arquivo)"
   ]
  },
  {
   "cell_type": "code",
   "execution_count": 55,
   "metadata": {},
   "outputs": [
    {
     "name": "stderr",
     "output_type": "stream",
     "text": [
      "[*********************100%***********************]  1 of 1 completed\n",
      "Could not get exchangeTimezoneName for ticker 'PETR4.SA' reason: 'chart'\n",
      "[*********************100%***********************]  1 of 1 completed\n",
      "\n",
      "1 Failed download:\n",
      "['PETR4.SA']: YFPricesMissingError('possibly delisted; no price data found  (period=1d)')\n"
     ]
    },
    {
     "name": "stdout",
     "output_type": "stream",
     "text": [
      "Erro ao obter dados de PETR4.SA: single positional indexer is out-of-bounds\n"
     ]
    },
    {
     "name": "stderr",
     "output_type": "stream",
     "text": [
      "[*********************100%***********************]  1 of 1 completed\n",
      "[*********************100%***********************]  1 of 1 completed\n",
      "[*********************100%***********************]  1 of 1 completed\n",
      "[*********************100%***********************]  1 of 1 completed\n",
      "[*********************100%***********************]  1 of 1 completed\n",
      "[*********************100%***********************]  1 of 1 completed\n",
      "[*********************100%***********************]  1 of 1 completed"
     ]
    },
    {
     "name": "stdout",
     "output_type": "stream",
     "text": [
      "Dados das ações atualizados com sucesso!\n"
     ]
    },
    {
     "name": "stderr",
     "output_type": "stream",
     "text": [
      "\n"
     ]
    }
   ],
   "source": [
    "import pandas as pd\n",
    "import yfinance as yf\n",
    "import datetime\n",
    "\n",
    "def atualizar_dados_acoes(arquivo_excel):\n",
    "    \"\"\"\n",
    "    Atualiza as cotações e dados financeiros das ações em um arquivo Excel, incluindo a Margem EBITDA.\n",
    "    \"\"\"\n",
    "    try:\n",
    "        df = pd.read_excel(arquivo_excel)\n",
    "        acoes = df['Ação'].tolist()\n",
    "    except FileNotFoundError:\n",
    "        print(f\"Erro: Arquivo '{arquivo_excel}' não encontrado.\")\n",
    "        return\n",
    "\n",
    "    # Limpa as colunas de dados financeiros\n",
    "    colunas_financeiras = ['Cotação', 'ROE', 'EBITDA', 'P/VP', 'Dividendo Yield', 'Lucro Líquido', 'Receita', 'Data Balanço', 'Margem EBITDA']\n",
    "    for coluna in colunas_financeiras:\n",
    "        df[coluna] = pd.NA\n",
    "\n",
    "    cotacoes = {}  # Dicionário para armazenar as cotações\n",
    "\n",
    "    for acao in acoes:\n",
    "        try:\n",
    "            ticker = yf.Ticker(acao)\n",
    "            info = ticker.info\n",
    "\n",
    "            # Obtém os dados financeiros\n",
    "            cotacoes[acao] = yf.download(acao, period=\"1d\")['Close'].iloc[-1].values[0]  # Extrai apenas o valor da cotação\n",
    "            roe = info.get('returnOnEquity')\n",
    "            ebitda = info.get('ebitda')\n",
    "            pvp = info.get('priceToBook')\n",
    "            dividendo_yield = info.get('dividendYield')\n",
    "            lucro_liquido = info.get('netIncomeToCommon')\n",
    "            receita = info.get('totalRevenue')\n",
    "            data_balanco = datetime.date.today().strftime('%Y-%m-%d')  # Obtém a data atual\n",
    "\n",
    "            # Calcula a Margem EBITDA apenas se o EBITDA estiver disponível\n",
    "            if ebitda is not None and receita is not None:\n",
    "                margem_ebitda = ebitda / receita\n",
    "            else:\n",
    "                margem_ebitda = None\n",
    "\n",
    "            # Atualiza os dados no DataFrame\n",
    "            df.loc[df['Ação'] == acao, 'ROE'] = roe\n",
    "            df.loc[df['Ação'] == acao, 'EBITDA'] = ebitda\n",
    "            df.loc[df['Ação'] == acao, 'P/VP'] = pvp\n",
    "            df.loc[df['Ação'] == acao, 'Dividendo Yield'] = dividendo_yield\n",
    "            df.loc[df['Ação'] == acao, 'Lucro Líquido'] = lucro_liquido\n",
    "            df.loc[df['Ação'] == acao, 'Receita'] = receita\n",
    "            df.loc[df['Ação'] == acao, 'Data Balanço'] = data_balanco\n",
    "            df.loc[df['Ação'] == acao, 'Margem EBITDA'] = margem_ebitda\n",
    "\n",
    "        except Exception as e:\n",
    "            print(f\"Erro ao obter dados de {acao}: {e}\")\n",
    "\n",
    "    df['Cotação'] = df['Ação'].map(cotacoes)  # Atualiza a coluna \"Cotação\" com o dicionário de cotações\n",
    "\n",
    "    # Salva o DataFrame atualizado no arquivo Excel\n",
    "    df.to_excel(arquivo_excel, index=False)\n",
    "    print(\"Dados das ações atualizados com sucesso!\")\n",
    "\n",
    "# Exemplo de uso\n",
    "arquivo = \"acoes.xlsx\"\n",
    "atualizar_dados_acoes(arquivo)"
   ]
  },
  {
   "cell_type": "code",
   "execution_count": 57,
   "metadata": {},
   "outputs": [
    {
     "name": "stdout",
     "output_type": "stream",
     "text": [
      "Informações da ação ALUP3.SA salvas em info_alup3.xlsx\n"
     ]
    }
   ],
   "source": [
    "import yfinance as yf\n",
    "import pandas as pd\n",
    "\n",
    "def obter_info_acao_completa(acao, arquivo_excel):\n",
    "    \"\"\"\n",
    "    Obtém todas as informações possíveis de uma ação e salva em um arquivo Excel.\n",
    "\n",
    "    Args:\n",
    "        acao (str): O ticker da ação (ex: ALUP3.SA).\n",
    "        arquivo_excel (str): O caminho do arquivo Excel onde as informações serão salvas.\n",
    "    \"\"\"\n",
    "    try:\n",
    "        ticker = yf.Ticker(acao)\n",
    "        info = ticker.info\n",
    "\n",
    "        # Cria um DataFrame com as informações da ação\n",
    "        df = pd.DataFrame.from_dict(info, orient='index', columns=['Valor'])\n",
    "        df.index.name = 'Informação'\n",
    "\n",
    "        # Salva o DataFrame em um arquivo Excel\n",
    "        df.to_excel(arquivo_excel)\n",
    "\n",
    "        print(f\"Informações da ação {acao} salvas em {arquivo_excel}\")\n",
    "\n",
    "    except Exception as e:\n",
    "        print(f\"Erro ao obter dados de {acao}: {e}\")\n",
    "\n",
    "# Exemplo de uso\n",
    "acao = \"ALUP3.SA\"\n",
    "arquivo = \"info_alup3.xlsx\"\n",
    "obter_info_acao_completa(acao, arquivo)"
   ]
  },
  {
   "cell_type": "code",
   "execution_count": 59,
   "metadata": {},
   "outputs": [],
   "source": [
    "chave_api = 'KHZ7M8GR9OVZRJHT'"
   ]
  },
  {
   "cell_type": "code",
   "execution_count": 69,
   "metadata": {},
   "outputs": [
    {
     "name": "stdout",
     "output_type": "stream",
     "text": [
      "Demonstrativo de resultados de BBAS3.SA obtido com sucesso!\n",
      "Demonstrativo de resultados de PETR4.SA obtido com sucesso!\n",
      "Demonstrativo de resultados de CMIG4.SA obtido com sucesso!\n",
      "Demonstrativo de resultados de SAPR4.SA obtido com sucesso!\n",
      "Demonstrativo de resultados de ALUP3.SA obtido com sucesso!\n",
      "Demonstrativo de resultados de BBDC4.SA obtido com sucesso!\n",
      "Demonstrativo de resultados de AMER3.SA obtido com sucesso!\n",
      "Nenhum demonstrativo de resultados encontrado para a ação VRTA11.SA.\n",
      "Nenhum demonstrativo de resultados encontrado para a ação SNEL11.SA.\n",
      "Demonstrativo de resultados de todas as ações salvo em acoes_historico.xlsx\n"
     ]
    },
    {
     "name": "stderr",
     "output_type": "stream",
     "text": [
      "C:\\Users\\super\\AppData\\Local\\Packages\\PythonSoftwareFoundation.Python.3.11_qbz5n2kfra8p0\\LocalCache\\local-packages\\Python311\\site-packages\\openpyxl\\workbook\\child.py:99: UserWarning: Title is more than 31 characters. Some applications may not be able to read the file\n",
      "  warnings.warn(\"Title is more than 31 characters. Some applications may not be able to read the file\")\n"
     ]
    }
   ],
   "source": [
    "import requests\n",
    "import pandas as pd\n",
    "\n",
    "def obter_demonstrativo_resultados_acoes_fmp(arquivo_acoes, api_key, arquivo_historico):\n",
    "    \"\"\"\n",
    "    Obtém o demonstrativo de resultados de todas as ações em um arquivo Excel da Financial Modeling Prep e salva em um novo arquivo Excel.\n",
    "\n",
    "    Args:\n",
    "        arquivo_acoes (str): Caminho para o arquivo Excel contendo a lista de ações.\n",
    "        api_key (str): Sua chave de API da Financial Modeling Prep.\n",
    "        arquivo_historico (str): Caminho para o arquivo Excel onde o demonstrativo de resultados será salvo.\n",
    "    \"\"\"\n",
    "    try:\n",
    "        df_acoes = pd.read_excel(arquivo_acoes)\n",
    "        acoes = df_acoes['Ação'].tolist()\n",
    "    except FileNotFoundError:\n",
    "        print(f\"Erro: Arquivo '{arquivo_acoes}' não encontrado.\")\n",
    "        return\n",
    "\n",
    "    demonstrativos_resultados = {}\n",
    "\n",
    "    for acao in acoes:\n",
    "        try:\n",
    "            # Ajusta o ticker para o formato da FMP (remove o \".SA\" para ações brasileiras)\n",
    "            # acao_fmp = acao.replace(\".SA\", \"\")\n",
    "\n",
    "            # URL da API para o demonstrativo de resultados\n",
    "            url = f\"https://financialmodelingprep.com/api/v3/income-statement/{acao}?apikey={api_key}\"\n",
    "\n",
    "            # Faz a requisição à API\n",
    "            response = requests.get(url)\n",
    "            data = response.json()\n",
    "\n",
    "            # Verifica se a API retornou dados\n",
    "            if data:\n",
    "                demonstrativos_resultados[acao] = pd.DataFrame(data)\n",
    "                print(f\"Demonstrativo de resultados de {acao} obtido com sucesso!\")\n",
    "            else:\n",
    "                print(f\"Nenhum demonstrativo de resultados encontrado para a ação {acao}.\")\n",
    "\n",
    "        except Exception as e:\n",
    "            print(f\"Erro ao obter demonstrativo de resultados de {acao}: {e}\")\n",
    "\n",
    "    # Salva o demonstrativo de resultados de todas as ações em um novo arquivo Excel\n",
    "    with pd.ExcelWriter(arquivo_historico) as writer:\n",
    "        for acao, demonstrativo_resultados_df in demonstrativos_resultados.items():\n",
    "            demonstrativo_resultados_df.to_excel(writer, sheet_name=f'{acao}_demonstrativo_resultados', index=False)\n",
    "\n",
    "    print(f\"Demonstrativo de resultados de todas as ações salvo em {arquivo_historico}\")\n",
    "\n",
    "# Exemplo de uso\n",
    "arquivo_acoes = \"acoes.xlsx\"  # Substitua pelo nome do seu arquivo Excel com a lista de ações\n",
    "api_key = \"S7r1vywFOPjXY18S9dMeDoH5pmA7UR9N\"  # Substitua pela sua chave de API\n",
    "arquivo_historico = \"acoes_historico.xlsx\"\n",
    "obter_demonstrativo_resultados_acoes_fmp(arquivo_acoes, api_key, arquivo_historico)"
   ]
  }
 ],
 "metadata": {
  "kernelspec": {
   "display_name": "Python 3",
   "language": "python",
   "name": "python3"
  },
  "language_info": {
   "codemirror_mode": {
    "name": "ipython",
    "version": 3
   },
   "file_extension": ".py",
   "mimetype": "text/x-python",
   "name": "python",
   "nbconvert_exporter": "python",
   "pygments_lexer": "ipython3",
   "version": "3.11.9"
  }
 },
 "nbformat": 4,
 "nbformat_minor": 2
}
